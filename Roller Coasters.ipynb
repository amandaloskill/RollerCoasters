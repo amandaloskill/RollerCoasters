{
 "cells": [
  {
   "cell_type": "markdown",
   "id": "617d3f91",
   "metadata": {},
   "source": [
    "# Importing libraries and dataset"
   ]
  },
  {
   "cell_type": "code",
   "execution_count": 86,
   "id": "b49ac076",
   "metadata": {},
   "outputs": [],
   "source": [
    "#Import libraries\n",
    "\n",
    "import pandas as pd\n",
    "import numpy as np\n",
    "import matplotlib.pyplot as plt\n",
    "import seaborn as sns"
   ]
  },
  {
   "cell_type": "code",
   "execution_count": 87,
   "id": "5f3d7195",
   "metadata": {},
   "outputs": [],
   "source": [
    "#Import dataset\n",
    "\n",
    "coasters = pd.read_csv('Desktop/coaster_db.csv')"
   ]
  },
  {
   "cell_type": "code",
   "execution_count": 88,
   "id": "39b94e66",
   "metadata": {},
   "outputs": [
    {
     "data": {
      "text/html": [
       "<div>\n",
       "<style scoped>\n",
       "    .dataframe tbody tr th:only-of-type {\n",
       "        vertical-align: middle;\n",
       "    }\n",
       "\n",
       "    .dataframe tbody tr th {\n",
       "        vertical-align: top;\n",
       "    }\n",
       "\n",
       "    .dataframe thead th {\n",
       "        text-align: right;\n",
       "    }\n",
       "</style>\n",
       "<table border=\"1\" class=\"dataframe\">\n",
       "  <thead>\n",
       "    <tr style=\"text-align: right;\">\n",
       "      <th></th>\n",
       "      <th>coaster_name</th>\n",
       "      <th>Length</th>\n",
       "      <th>Speed</th>\n",
       "      <th>Location</th>\n",
       "      <th>Status</th>\n",
       "      <th>Opening date</th>\n",
       "      <th>Type</th>\n",
       "      <th>Manufacturer</th>\n",
       "      <th>Height restriction</th>\n",
       "      <th>Model</th>\n",
       "      <th>...</th>\n",
       "      <th>speed1</th>\n",
       "      <th>speed2</th>\n",
       "      <th>speed1_value</th>\n",
       "      <th>speed1_unit</th>\n",
       "      <th>speed_mph</th>\n",
       "      <th>height_value</th>\n",
       "      <th>height_unit</th>\n",
       "      <th>height_ft</th>\n",
       "      <th>Inversions_clean</th>\n",
       "      <th>Gforce_clean</th>\n",
       "    </tr>\n",
       "  </thead>\n",
       "  <tbody>\n",
       "    <tr>\n",
       "      <th>0</th>\n",
       "      <td>Switchback Railway</td>\n",
       "      <td>600 ft (180 m)</td>\n",
       "      <td>6 mph (9.7 km/h)</td>\n",
       "      <td>Coney Island</td>\n",
       "      <td>Removed</td>\n",
       "      <td>June 16, 1884</td>\n",
       "      <td>Wood</td>\n",
       "      <td>LaMarcus Adna Thompson</td>\n",
       "      <td>NaN</td>\n",
       "      <td>Lift Packed</td>\n",
       "      <td>...</td>\n",
       "      <td>6 mph</td>\n",
       "      <td>9.7 km/h</td>\n",
       "      <td>6.0</td>\n",
       "      <td>mph</td>\n",
       "      <td>6.0</td>\n",
       "      <td>50.0</td>\n",
       "      <td>ft</td>\n",
       "      <td>NaN</td>\n",
       "      <td>0</td>\n",
       "      <td>2.9</td>\n",
       "    </tr>\n",
       "    <tr>\n",
       "      <th>1</th>\n",
       "      <td>Flip Flap Railway</td>\n",
       "      <td>NaN</td>\n",
       "      <td>NaN</td>\n",
       "      <td>Sea Lion Park</td>\n",
       "      <td>Removed</td>\n",
       "      <td>1895</td>\n",
       "      <td>Wood</td>\n",
       "      <td>Lina Beecher</td>\n",
       "      <td>NaN</td>\n",
       "      <td>NaN</td>\n",
       "      <td>...</td>\n",
       "      <td>NaN</td>\n",
       "      <td>NaN</td>\n",
       "      <td>NaN</td>\n",
       "      <td>NaN</td>\n",
       "      <td>NaN</td>\n",
       "      <td>NaN</td>\n",
       "      <td>NaN</td>\n",
       "      <td>NaN</td>\n",
       "      <td>1</td>\n",
       "      <td>12.0</td>\n",
       "    </tr>\n",
       "    <tr>\n",
       "      <th>2</th>\n",
       "      <td>Switchback Railway (Euclid Beach Park)</td>\n",
       "      <td>NaN</td>\n",
       "      <td>NaN</td>\n",
       "      <td>Cleveland, Ohio, United States</td>\n",
       "      <td>Closed</td>\n",
       "      <td>NaN</td>\n",
       "      <td>Other</td>\n",
       "      <td>NaN</td>\n",
       "      <td>NaN</td>\n",
       "      <td>NaN</td>\n",
       "      <td>...</td>\n",
       "      <td>NaN</td>\n",
       "      <td>NaN</td>\n",
       "      <td>NaN</td>\n",
       "      <td>NaN</td>\n",
       "      <td>NaN</td>\n",
       "      <td>NaN</td>\n",
       "      <td>NaN</td>\n",
       "      <td>NaN</td>\n",
       "      <td>0</td>\n",
       "      <td>NaN</td>\n",
       "    </tr>\n",
       "    <tr>\n",
       "      <th>3</th>\n",
       "      <td>Loop the Loop (Coney Island)</td>\n",
       "      <td>NaN</td>\n",
       "      <td>NaN</td>\n",
       "      <td>Other</td>\n",
       "      <td>Removed</td>\n",
       "      <td>1901</td>\n",
       "      <td>Steel</td>\n",
       "      <td>Edwin Prescott</td>\n",
       "      <td>NaN</td>\n",
       "      <td>NaN</td>\n",
       "      <td>...</td>\n",
       "      <td>NaN</td>\n",
       "      <td>NaN</td>\n",
       "      <td>NaN</td>\n",
       "      <td>NaN</td>\n",
       "      <td>NaN</td>\n",
       "      <td>NaN</td>\n",
       "      <td>NaN</td>\n",
       "      <td>NaN</td>\n",
       "      <td>1</td>\n",
       "      <td>NaN</td>\n",
       "    </tr>\n",
       "    <tr>\n",
       "      <th>4</th>\n",
       "      <td>Loop the Loop (Young's Pier)</td>\n",
       "      <td>NaN</td>\n",
       "      <td>NaN</td>\n",
       "      <td>Other</td>\n",
       "      <td>Removed</td>\n",
       "      <td>1901</td>\n",
       "      <td>Steel</td>\n",
       "      <td>Edwin Prescott</td>\n",
       "      <td>NaN</td>\n",
       "      <td>NaN</td>\n",
       "      <td>...</td>\n",
       "      <td>NaN</td>\n",
       "      <td>NaN</td>\n",
       "      <td>NaN</td>\n",
       "      <td>NaN</td>\n",
       "      <td>NaN</td>\n",
       "      <td>NaN</td>\n",
       "      <td>NaN</td>\n",
       "      <td>NaN</td>\n",
       "      <td>1</td>\n",
       "      <td>NaN</td>\n",
       "    </tr>\n",
       "  </tbody>\n",
       "</table>\n",
       "<p>5 rows × 56 columns</p>\n",
       "</div>"
      ],
      "text/plain": [
       "                             coaster_name          Length             Speed  \\\n",
       "0                      Switchback Railway  600 ft (180 m)  6 mph (9.7 km/h)   \n",
       "1                       Flip Flap Railway             NaN               NaN   \n",
       "2  Switchback Railway (Euclid Beach Park)             NaN               NaN   \n",
       "3            Loop the Loop (Coney Island)             NaN               NaN   \n",
       "4            Loop the Loop (Young's Pier)             NaN               NaN   \n",
       "\n",
       "                         Location   Status   Opening date   Type  \\\n",
       "0                    Coney Island  Removed  June 16, 1884   Wood   \n",
       "1                   Sea Lion Park  Removed           1895   Wood   \n",
       "2  Cleveland, Ohio, United States   Closed            NaN  Other   \n",
       "3                           Other  Removed           1901  Steel   \n",
       "4                           Other  Removed           1901  Steel   \n",
       "\n",
       "             Manufacturer Height restriction        Model  ...  speed1  \\\n",
       "0  LaMarcus Adna Thompson                NaN  Lift Packed  ...  6 mph    \n",
       "1            Lina Beecher                NaN          NaN  ...     NaN   \n",
       "2                     NaN                NaN          NaN  ...     NaN   \n",
       "3          Edwin Prescott                NaN          NaN  ...     NaN   \n",
       "4          Edwin Prescott                NaN          NaN  ...     NaN   \n",
       "\n",
       "     speed2 speed1_value speed1_unit speed_mph height_value height_unit  \\\n",
       "0  9.7 km/h          6.0         mph       6.0         50.0          ft   \n",
       "1       NaN          NaN         NaN       NaN          NaN         NaN   \n",
       "2       NaN          NaN         NaN       NaN          NaN         NaN   \n",
       "3       NaN          NaN         NaN       NaN          NaN         NaN   \n",
       "4       NaN          NaN         NaN       NaN          NaN         NaN   \n",
       "\n",
       "  height_ft Inversions_clean Gforce_clean  \n",
       "0       NaN                0          2.9  \n",
       "1       NaN                1         12.0  \n",
       "2       NaN                0          NaN  \n",
       "3       NaN                1          NaN  \n",
       "4       NaN                1          NaN  \n",
       "\n",
       "[5 rows x 56 columns]"
      ]
     },
     "execution_count": 88,
     "metadata": {},
     "output_type": "execute_result"
    }
   ],
   "source": [
    "#Making sure it imported correctly\n",
    "\n",
    "coasters.head()"
   ]
  },
  {
   "cell_type": "markdown",
   "id": "709eb5db",
   "metadata": {},
   "source": [
    "# 1. How many columns and rows are in the dataset?"
   ]
  },
  {
   "cell_type": "code",
   "execution_count": 89,
   "id": "11fa1842",
   "metadata": {},
   "outputs": [
    {
     "name": "stdout",
     "output_type": "stream",
     "text": [
      "56\n"
     ]
    }
   ],
   "source": [
    "# Column count\n",
    "\n",
    "num_columns = len(coasters.columns)\n",
    "\n",
    "print(num_columns)"
   ]
  },
  {
   "cell_type": "code",
   "execution_count": 90,
   "id": "482c37bb",
   "metadata": {},
   "outputs": [
    {
     "name": "stdout",
     "output_type": "stream",
     "text": [
      "1087\n"
     ]
    }
   ],
   "source": [
    "# Row count\n",
    "\n",
    "num_rows = len(coasters.index)\n",
    "\n",
    "print(num_rows)"
   ]
  },
  {
   "cell_type": "markdown",
   "id": "7a1c6a96",
   "metadata": {},
   "source": [
    "# 2. Is there any missing data?"
   ]
  },
  {
   "cell_type": "code",
   "execution_count": 91,
   "id": "511bb230",
   "metadata": {},
   "outputs": [
    {
     "name": "stdout",
     "output_type": "stream",
     "text": [
      "coaster_name                        0\n",
      "Length                            134\n",
      "Speed                             150\n",
      "Location                            0\n",
      "Status                            213\n",
      "Opening date                      250\n",
      "Type                                0\n",
      "Manufacturer                       59\n",
      "Height restriction                256\n",
      "Model                             343\n",
      "Height                            122\n",
      "Inversions                        155\n",
      "Lift/launch system                292\n",
      "Cost                              705\n",
      "Trains                            369\n",
      "Park section                      600\n",
      "Duration                          322\n",
      "Capacity                          512\n",
      "G-force                           725\n",
      "Designer                          509\n",
      "Max vertical angle                730\n",
      "Drop                              593\n",
      "Soft opening date                 991\n",
      "Fast Lane available              1018\n",
      "Replaced                          914\n",
      "Track layout                      752\n",
      "Fastrack available               1068\n",
      "Soft opening date.1               991\n",
      "Closing date                      851\n",
      "Opened                           1060\n",
      "Replaced by                       999\n",
      "Website                          1000\n",
      "Flash Pass Available             1037\n",
      "Must transfer from wheelchair     981\n",
      "Theme                            1043\n",
      "Single rider line available      1006\n",
      "Restraint Style                  1065\n",
      "Flash Pass available             1041\n",
      "Acceleration                     1027\n",
      "Restraints                       1063\n",
      "Name                             1052\n",
      "year_introduced                     0\n",
      "latitude                          275\n",
      "longitude                         275\n",
      "Type_Main                           0\n",
      "opening_date_clean                250\n",
      "speed1                            150\n",
      "speed2                            152\n",
      "speed1_value                      150\n",
      "speed1_unit                       150\n",
      "speed_mph                         150\n",
      "height_value                      122\n",
      "height_unit                       122\n",
      "height_ft                         916\n",
      "Inversions_clean                    0\n",
      "Gforce_clean                      725\n",
      "dtype: int64\n"
     ]
    }
   ],
   "source": [
    "#Missing data\n",
    "\n",
    "missing_data = coasters.isnull().sum()\n",
    "\n",
    "print(missing_data)"
   ]
  },
  {
   "cell_type": "markdown",
   "id": "d64ad2eb",
   "metadata": {},
   "source": [
    "# 3. Display the summary statistics of the numeric columns using the describe method."
   ]
  },
  {
   "cell_type": "code",
   "execution_count": 92,
   "id": "93ed7125",
   "metadata": {},
   "outputs": [
    {
     "name": "stdout",
     "output_type": "stream",
     "text": [
      "       Inversions  year_introduced    latitude   longitude  speed1_value  \\\n",
      "count  932.000000      1087.000000  812.000000  812.000000    937.000000   \n",
      "mean     1.547210      1994.986201   38.373484  -41.595373     53.850374   \n",
      "std      2.114073        23.475248   15.516596   72.285227     23.385518   \n",
      "min      0.000000      1884.000000  -48.261700 -123.035700      5.000000   \n",
      "25%      0.000000      1989.000000   35.031050  -84.552200     40.000000   \n",
      "50%      0.000000      2000.000000   40.289800  -76.653600     50.000000   \n",
      "75%      3.000000      2010.000000   44.799600    2.778100     63.000000   \n",
      "max     14.000000      2022.000000   63.230900  153.426500    240.000000   \n",
      "\n",
      "        speed_mph  height_value   height_ft  Inversions_clean  Gforce_clean  \n",
      "count  937.000000    965.000000  171.000000       1087.000000    362.000000  \n",
      "mean    48.617289     89.575171  101.996491          1.326587      3.824006  \n",
      "std     16.678031    136.246444   67.329092          2.030854      0.989998  \n",
      "min      5.000000      4.000000   13.100000          0.000000      0.800000  \n",
      "25%     37.300000     44.000000   51.800000          0.000000      3.400000  \n",
      "50%     49.700000     79.000000   91.200000          0.000000      4.000000  \n",
      "75%     58.000000    113.000000  131.200000          2.000000      4.500000  \n",
      "max    149.100000   3937.000000  377.300000         14.000000     12.000000  \n"
     ]
    }
   ],
   "source": [
    "#Summary stats\n",
    "\n",
    "stats = coasters.describe()\n",
    "\n",
    "print(stats)"
   ]
  },
  {
   "cell_type": "markdown",
   "id": "886e4231",
   "metadata": {},
   "source": [
    "# 4. Rename the following columns:\n",
    "coaster_name ➡️ Coaster_Name,\n",
    "year_introduced ➡️ Year_Introduced,\n",
    "opening_date_clean ➡️ Opening_Date,\n",
    "speed_mph ➡️ Speed_mph,\n",
    "height_ft ➡️ Height_ft,\n",
    "Inversions_clean ➡️ Inversions,\n",
    "Gforce_clean ➡️ Gforce"
   ]
  },
  {
   "cell_type": "code",
   "execution_count": 93,
   "id": "bd7aa459",
   "metadata": {},
   "outputs": [
    {
     "name": "stdout",
     "output_type": "stream",
     "text": [
      "Index(['Coaster_Name', 'Length', 'Speed', 'Location', 'Status', 'Opening date',\n",
      "       'Type', 'Manufacturer', 'Height restriction', 'Model', 'Height',\n",
      "       'Inversions', 'Lift/launch system', 'Cost', 'Trains', 'Park section',\n",
      "       'Duration', 'Capacity', 'G-force', 'Designer', 'Max vertical angle',\n",
      "       'Drop', 'Soft opening date', 'Fast Lane available', 'Replaced',\n",
      "       'Track layout', 'Fastrack available', 'Soft opening date.1',\n",
      "       'Closing date', 'Opened', 'Replaced by', 'Website',\n",
      "       'Flash Pass Available', 'Must transfer from wheelchair', 'Theme',\n",
      "       'Single rider line available', 'Restraint Style',\n",
      "       'Flash Pass available', 'Acceleration', 'Restraints', 'Name',\n",
      "       'Year_Introduced', 'latitude', 'longitude', 'Type_Main', 'Opening_Date',\n",
      "       'speed1', 'speed2', 'speed1_value', 'speed1_unit', 'Speed_mph',\n",
      "       'height_value', 'height_unit', 'Height_ft', 'Inversions', 'Gforce'],\n",
      "      dtype='object')\n"
     ]
    }
   ],
   "source": [
    "# Renaming columns\n",
    "\n",
    "new_names = {'coaster_name' : 'Coaster_Name',\n",
    "            'year_introduced' : 'Year_Introduced',\n",
    "            'opening_date_clean' : 'Opening_Date',\n",
    "            'speed_mph' : 'Speed_mph',\n",
    "            'height_ft' : 'Height_ft',\n",
    "            'Inversions_clean' : 'Inversions',\n",
    "            'Gforce_clean' : 'Gforce'}\n",
    "\n",
    "coasters = coasters.rename(columns=new_names)\n",
    "\n",
    "print(coasters.columns)"
   ]
  },
  {
   "cell_type": "markdown",
   "id": "f1255993",
   "metadata": {},
   "source": [
    "# 5. Are there any duplicated rows?"
   ]
  },
  {
   "cell_type": "code",
   "execution_count": 94,
   "id": "db3b5cbb",
   "metadata": {},
   "outputs": [
    {
     "name": "stdout",
     "output_type": "stream",
     "text": [
      "There are no duplicates.\n"
     ]
    }
   ],
   "source": [
    "#Finding duplicates\n",
    "\n",
    "duplicated = coasters.duplicated().iloc[0:1087]\n",
    "\n",
    "if duplicated.any():\n",
    "    print(\"There are duplicates.\")\n",
    "else:\n",
    "    print(\"There are no duplicates.\")"
   ]
  },
  {
   "cell_type": "markdown",
   "id": "071e7d90",
   "metadata": {},
   "source": [
    "# 6. What are the top 3 years with the most roller coasters introduced?"
   ]
  },
  {
   "cell_type": "code",
   "execution_count": 95,
   "id": "55f3095c",
   "metadata": {},
   "outputs": [
    {
     "name": "stdout",
     "output_type": "stream",
     "text": [
      "Year_Introduced\n",
      "1999    49\n",
      "2000    47\n",
      "1998    32\n",
      "Name: Coaster_Name, dtype: int64\n"
     ]
    }
   ],
   "source": [
    "# Grouping the dataset by year and counting the number of coasters introduced in each year\n",
    "\n",
    "counts = coasters.groupby('Year_Introduced')['Coaster_Name'].count()\n",
    "\n",
    "# Finding the top 3 from above\n",
    "\n",
    "top_3 = counts.sort_values(ascending=False).head(3)\n",
    "\n",
    "print(top_3)"
   ]
  },
  {
   "cell_type": "markdown",
   "id": "10393302",
   "metadata": {},
   "source": [
    "# 7. What is the average speed? Also display a plot to show it’s distribution."
   ]
  },
  {
   "cell_type": "code",
   "execution_count": 96,
   "id": "427aef4e",
   "metadata": {},
   "outputs": [
    {
     "name": "stdout",
     "output_type": "stream",
     "text": [
      "48.617289220917804\n"
     ]
    }
   ],
   "source": [
    "# Calculating the average speed\n",
    "\n",
    "avg_speed = coasters['Speed_mph'].mean()\n",
    "\n",
    "print(avg_speed)"
   ]
  },
  {
   "cell_type": "code",
   "execution_count": 97,
   "id": "2e2d7c55",
   "metadata": {},
   "outputs": [
    {
     "data": {
      "image/png": "[encoded data removed]",
      "text/plain": [
       "<Figure size 640x480 with 1 Axes>"
      ]
     },
     "metadata": {},
     "output_type": "display_data"
    }
   ],
   "source": [
    "# Histogram of distribution\n",
    "\n",
    "plt.hist(coasters['Speed_mph'], bins=20)\n",
    "plt.title(\"Distribution of Roller Coaster Speeds\")\n",
    "plt.xlabel(\"Speed (mph)\")\n",
    "plt.ylabel(\"Frequency\")\n",
    "plt.show()"
   ]
  },
  {
   "cell_type": "markdown",
   "id": "e0734120",
   "metadata": {},
   "source": [
    "# 8. Explore the feature relationships. Are there any positively or negatively correlated relationships?"
   ]
  },
  {
   "cell_type": "code",
   "execution_count": 98,
   "id": "9b7d917a",
   "metadata": {},
   "outputs": [
    {
     "name": "stdout",
     "output_type": "stream",
     "text": [
      "                 Inversions  Year_Introduced  latitude  longitude  \\\n",
      "Inversions         1.000000         0.211003 -0.009815   0.061589   \n",
      "Year_Introduced    0.211003         1.000000 -0.070982   0.175913   \n",
      "latitude          -0.009815        -0.070982  1.000000  -0.298488   \n",
      "longitude          0.061589         0.175913 -0.298488   1.000000   \n",
      "speed1_value       0.163419         0.210191 -0.121847   0.301179   \n",
      "Speed_mph          0.252209         0.204853 -0.063757   0.051063   \n",
      "height_value       0.094811         0.087687 -0.004265  -0.092764   \n",
      "Height_ft          0.171330         0.232150  0.011492   0.159733   \n",
      "Inversions         1.000000         0.228758 -0.014043   0.087160   \n",
      "Gforce             0.356865        -0.066657  0.042871   0.016485   \n",
      "\n",
      "                 speed1_value  Speed_mph  height_value  Height_ft  Inversions  \\\n",
      "Inversions           0.163419   0.252209      0.094811   0.171330    1.000000   \n",
      "Year_Introduced      0.210191   0.204853      0.087687   0.232150    0.228758   \n",
      "latitude            -0.121847  -0.063757     -0.004265   0.011492   -0.014043   \n",
      "longitude            0.301179   0.051063     -0.092764   0.159733    0.087160   \n",
      "speed1_value         1.000000   0.851667      0.088761   0.815103    0.176105   \n",
      "Speed_mph            0.851667   1.000000      0.241461   0.829404    0.265763   \n",
      "height_value         0.088761   0.241461      1.000000   1.000000    0.108199   \n",
      "Height_ft            0.815103   0.829404      1.000000   1.000000    0.164246   \n",
      "Inversions           0.176105   0.265763      0.108199   0.164246    1.000000   \n",
      "Gforce               0.379962   0.489337      0.337386   0.475020    0.345106   \n",
      "\n",
      "                   Gforce  \n",
      "Inversions       0.356865  \n",
      "Year_Introduced -0.066657  \n",
      "latitude         0.042871  \n",
      "longitude        0.016485  \n",
      "speed1_value     0.379962  \n",
      "Speed_mph        0.489337  \n",
      "height_value     0.337386  \n",
      "Height_ft        0.475020  \n",
      "Inversions       0.345106  \n",
      "Gforce           1.000000  \n"
     ]
    }
   ],
   "source": [
    "# Calculating the correlation coefficients between columns\n",
    "\n",
    "correlations = coasters.corr()\n",
    "\n",
    "print(correlations)"
   ]
  },
  {
   "cell_type": "code",
   "execution_count": 99,
   "id": "16b6adb6",
   "metadata": {},
   "outputs": [
    {
     "data": {
      "image/png": "[encoded data removed]",
      "text/plain": [
       "<Figure size 640x480 with 2 Axes>"
      ]
     },
     "metadata": {},
     "output_type": "display_data"
    }
   ],
   "source": [
    "# Graphing the correlations\n",
    "\n",
    "sns.heatmap(correlations, cmap='coolwarm')\n",
    "plt.title(\"Correlation Heatmap\")\n",
    "plt.show()"
   ]
  },
  {
   "cell_type": "markdown",
   "id": "a67cd632",
   "metadata": {},
   "source": [
    "# 9. Create your own question and answer it. What are the top 5 locations with the most coasters and create a graph. "
   ]
  },
  {
   "cell_type": "code",
   "execution_count": 100,
   "id": "9ab909e5",
   "metadata": {},
   "outputs": [
    {
     "name": "stdout",
     "output_type": "stream",
     "text": [
      "                      Location  count\n",
      "38                 Cedar Point     19\n",
      "132               Kings Island     19\n",
      "225   Six Flags Magic Mountain     17\n",
      "115                Hersheypark     16\n",
      "223  Six Flags Great Adventure     15\n"
     ]
    }
   ],
   "source": [
    "#Grouping by location and number of coasters\n",
    "coasters_by_location = coasters.groupby('Location').size().reset_index(name='count')\n",
    "\n",
    "#Finding top 6 from above\n",
    "top_6_locations = coasters_by_location.sort_values('count', ascending=False).head(6)\n",
    "\n",
    "# Remove a specific value, I saw other was number one and wanted to remove this\n",
    "top_6_locations = top_6_locations.drop(top_6_locations[top_6_locations['Location'] == 'Other'].index)\n",
    "\n",
    "print(top_6_locations)"
   ]
  },
  {
   "cell_type": "code",
   "execution_count": 85,
   "id": "9ff90e08",
   "metadata": {},
   "outputs": [
    {
     "data": {
      "image/png": "[encoded data removed]",
      "text/plain": [
       "<Figure size 1000x600 with 1 Axes>"
      ]
     },
     "metadata": {},
     "output_type": "display_data"
    }
   ],
   "source": [
    "#Creating a graph\n",
    "\n",
    "plt.figure(figsize=(10, 6))\n",
    "plt.bar(top_6_locations['Location'], top_6_locations['count'])\n",
    "plt.title('Top 5 Locations with the Most Coasters')\n",
    "plt.xlabel('Location')\n",
    "plt.ylabel('Number of Coasters')\n",
    "plt.show()"
   ]
  }
 ],
 "metadata": {
  "kernelspec": {
   "display_name": "Python 3 (ipykernel)",
   "language": "python",
   "name": "python3"
  },
  "language_info": {
   "codemirror_mode": {
    "name": "ipython",
    "version": 3
   },
   "file_extension": ".py",
   "mimetype": "text/x-python",
   "name": "python",
   "nbconvert_exporter": "python",
   "pygments_lexer": "ipython3",
   "version": "3.9.13"
  }
 },
 "nbformat": 4,
 "nbformat_minor": 5
}
